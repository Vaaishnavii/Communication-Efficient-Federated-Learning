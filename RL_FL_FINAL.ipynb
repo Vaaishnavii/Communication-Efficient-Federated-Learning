{
  "nbformat": 4,
  "nbformat_minor": 0,
  "metadata": {
    "colab": {
      "provenance": [],
      "gpuType": "T4"
    },
    "kernelspec": {
      "name": "python3",
      "display_name": "Python 3"
    },
    "language_info": {
      "name": "python"
    },
    "accelerator": "GPU"
  },
  "cells": [
    {
      "cell_type": "code",
      "source": [
        "import torch\n",
        "import torch.nn as nn\n",
        "import torch.nn.functional as F\n",
        "import torch.optim as optim\n",
        "from torchvision import datasets, transforms\n",
        "import numpy as np\n",
        "import matplotlib.pyplot as plt\n",
        "import copy\n",
        "import random\n",
        "from sklearn.cluster import KMeans\n",
        "from sklearn.metrics import silhouette_score\n",
        "from collections import defaultdict\n",
        "import heapq\n",
        "from tqdm import tqdm\n",
        "import seaborn as sns\n",
        "import warnings\n",
        "import pandas as pd\n",
        "import time\n",
        "\n",
        "\n",
        "# Suppress warnings for cleaner logs\n",
        "warnings.filterwarnings(\"ignore\")\n",
        "\n",
        "# Set random seeds for reproducibility\n",
        "torch.manual_seed(42)\n",
        "np.random.seed(42)\n",
        "random.seed(42)\n",
        "\n",
        "# Device configuration\n",
        "device = torch.device(\"cuda\" if torch.cuda.is_available() else \"cpu\")"
      ],
      "metadata": {
        "id": "DHFJ5dJtzbtK"
      },
      "execution_count": null,
      "outputs": []
    },
    {
      "cell_type": "code",
      "source": [
        "# FedModel\n",
        "class FedModel(nn.Module):\n",
        "    def __init__(self):\n",
        "        super(FedModel, self).__init__()\n",
        "        self.conv1 = nn.Conv2d(1, 32, 3, 1)\n",
        "        self.conv2 = nn.Conv2d(32, 64, 3, 1)\n",
        "        self.dropout1 = nn.Dropout(0.25)\n",
        "        self.dropout2 = nn.Dropout(0.5)\n",
        "        self.fc1 = nn.Linear(9216, 128)\n",
        "        self.fc2 = nn.Linear(128, 10)\n",
        "\n",
        "        self.importance_scores = {\n",
        "            'conv1': 1.0,\n",
        "            'conv2': 1.0,\n",
        "            'fc1': 1.0,\n",
        "            'fc2': 1.0\n",
        "        }\n",
        "        self.importance_momentum = 0.9\n",
        "\n",
        "    def forward(self, x):\n",
        "        x = F.relu(self.conv1(x))\n",
        "        x = F.relu(self.conv2(x))\n",
        "        x = F.max_pool2d(x, 2)\n",
        "        x = self.dropout1(x)\n",
        "        x = torch.flatten(x, 1)\n",
        "        x = F.relu(self.fc1(x))\n",
        "        x = self.dropout2(x)\n",
        "        x = self.fc2(x)\n",
        "        return F.log_softmax(x, dim=1)\n",
        "\n",
        "    def get_meta_gradient(self, x, y, criterion):\n",
        "        self.zero_grad()\n",
        "        output = self(x)\n",
        "        loss = criterion(output, y)\n",
        "        grad1 = torch.autograd.grad(loss, self.parameters(), create_graph=True)\n",
        "\n",
        "        meta_grad = []\n",
        "        for g in grad1:\n",
        "            if g is not None:\n",
        "                grad_norm = torch.norm(g)\n",
        "                grad_of_grad = torch.autograd.grad(grad_norm, self.parameters(), retain_graph=True)\n",
        "                meta_grad.append(\n",
        "                    grad_of_grad[0].detach().cpu().numpy()\n",
        "                    if grad_of_grad[0] is not None else np.zeros_like(g.detach().cpu().numpy())\n",
        "                )\n",
        "            else:\n",
        "                meta_grad.append(np.zeros_like(g.detach().cpu().numpy()))\n",
        "        return meta_grad"
      ],
      "metadata": {
        "id": "ypsCSzvB0j44"
      },
      "execution_count": null,
      "outputs": []
    },
    {
      "cell_type": "code",
      "source": [
        "# Non-IID split\n",
        "def prepare_non_iid_data(num_clients, alpha=0.3, min_samples=100):\n",
        "    transform = transforms.Compose([\n",
        "        transforms.ToTensor(),\n",
        "        transforms.Normalize((0.1307,), (0.3081,))\n",
        "    ])\n",
        "\n",
        "    train_dataset = datasets.MNIST('./data', train=True, download=True, transform=transform)\n",
        "    test_dataset = datasets.MNIST('./data', train=False, transform=transform)\n",
        "\n",
        "    client_data_indices = {i: [] for i in range(num_clients)}\n",
        "    num_classes = 10\n",
        "\n",
        "    for class_idx in range(num_classes):\n",
        "        class_indices = np.where(train_dataset.targets.numpy() == class_idx)[0]\n",
        "        np.random.shuffle(class_indices)\n",
        "\n",
        "        proportions = np.random.dirichlet(np.repeat(alpha, num_clients))\n",
        "        splits = (np.cumsum(proportions) * len(class_indices)).astype(int)[:-1]\n",
        "        class_splits = np.split(class_indices, splits)\n",
        "\n",
        "        for client_idx in range(num_clients):\n",
        "            if client_idx < len(class_splits):\n",
        "                client_data_indices[client_idx].extend(class_splits[client_idx])\n",
        "\n",
        "    client_datasets = []\n",
        "    for client_idx in range(num_clients):\n",
        "        indices = client_data_indices[client_idx]\n",
        "        if len(indices) < min_samples:\n",
        "            needed = min_samples - len(indices)\n",
        "            all_indices = set(range(len(train_dataset)))\n",
        "            available = list(all_indices - set(indices))\n",
        "            extra_indices = np.random.choice(available, needed, replace=False)\n",
        "            indices.extend(extra_indices)\n",
        "        client_dataset = torch.utils.data.Subset(train_dataset, indices)\n",
        "        client_datasets.append(client_dataset)\n",
        "\n",
        "    return client_datasets, test_dataset"
      ],
      "metadata": {
        "id": "cgemIgl20k6c"
      },
      "execution_count": null,
      "outputs": []
    },
    {
      "cell_type": "code",
      "source": [
        "# Cluster manager\n",
        "class ClusterManager:\n",
        "    def __init__(self, num_clients, num_clusters=3):\n",
        "        self.num_clusters = num_clusters\n",
        "        self.clusters = {i: [] for i in range(num_clusters)}\n",
        "        self.cluster_models = {}\n",
        "        self.task_embeddings = {}\n",
        "        self.cluster_acc_history = defaultdict(list)\n",
        "        self.cluster_history = []\n",
        "        self.client_history = defaultdict(list)\n",
        "        self.last_cluster_change = -5\n",
        "        self.num_clients = num_clients\n",
        "\n",
        "    def update_clusters(self, client_models, client_datasets, criterion, round_num):\n",
        "        if round_num - self.last_cluster_change < 5 and round_num > 10:\n",
        "            return\n",
        "\n",
        "        self.task_embeddings.clear()\n",
        "        valid_clients = 0\n",
        "\n",
        "        for client_id in range(self.num_clients):\n",
        "            if client_id not in client_models or client_id >= len(client_datasets) or len(client_datasets[client_id]) == 0:\n",
        "                continue\n",
        "\n",
        "            loader = torch.utils.data.DataLoader(client_datasets[client_id], batch_size=64, shuffle=True)\n",
        "            x, y = next(iter(loader))\n",
        "            x, y = x.to(device), y.to(device)\n",
        "\n",
        "            try:\n",
        "                meta_grad = client_models[client_id].get_meta_gradient(x, y, criterion)\n",
        "                embedding = np.concatenate([g.flatten() for g in meta_grad if g is not None])\n",
        "                self.task_embeddings[client_id] = embedding\n",
        "                valid_clients += 1\n",
        "            except Exception as e:\n",
        "                print(f\"[Cluster] Meta-gradient error for client {client_id}: {e}\")\n",
        "\n",
        "        if valid_clients >= self.num_clusters:\n",
        "            embeddings = np.array(list(self.task_embeddings.values()))\n",
        "\n",
        "            # Dynamic cluster selection\n",
        "            if round_num % 10 == 0 or round_num < 10:\n",
        "                best_score = -1\n",
        "                best_k = self.num_clusters\n",
        "                for k in range(2, min(10, len(embeddings))):\n",
        "                    labels = KMeans(n_clusters=k, random_state=42).fit_predict(embeddings)\n",
        "                    score = silhouette_score(embeddings, labels)\n",
        "                    if score > best_score:\n",
        "                        best_score = score\n",
        "                        best_k = k\n",
        "                self.num_clusters = best_k\n",
        "                print(f\"[Cluster] Silhouette-optimal clusters: {self.num_clusters}\")\n",
        "                self.last_cluster_change = round_num\n",
        "\n",
        "            kmeans = KMeans(n_clusters=self.num_clusters, random_state=42)\n",
        "            labels = kmeans.fit_predict(embeddings)\n",
        "\n",
        "            self.clusters = {i: [] for i in range(self.num_clusters)}\n",
        "            for i, cid in enumerate(self.task_embeddings.keys()):\n",
        "                self.clusters[labels[i]].append(cid)\n",
        "                self.client_history[cid].append(labels[i])\n",
        "\n",
        "            self.cluster_history.append((round_num, copy.deepcopy(self.clusters)))\n",
        "            self.update_cluster_models(client_models)\n",
        "\n",
        "    def update_cluster_models(self, client_models):\n",
        "        for cluster_id, client_ids in self.clusters.items():\n",
        "            if not client_ids:\n",
        "                continue\n",
        "\n",
        "            base_model = client_models[client_ids[0]]\n",
        "            avg_state = copy.deepcopy(base_model.state_dict())\n",
        "            for key in avg_state:\n",
        "                avg_state[key] = torch.zeros_like(avg_state[key])\n",
        "\n",
        "            for client_id in client_ids:\n",
        "                client_state = client_models[client_id].state_dict()\n",
        "                for key in avg_state:\n",
        "                    avg_state[key] += client_state[key]\n",
        "\n",
        "            for key in avg_state:\n",
        "                avg_state[key] /= len(client_ids)\n",
        "\n",
        "            if cluster_id not in self.cluster_models:\n",
        "                self.cluster_models[cluster_id] = copy.deepcopy(base_model)\n",
        "            self.cluster_models[cluster_id].load_state_dict(avg_state)"
      ],
      "metadata": {
        "id": "gw1NLHBf0nFj"
      },
      "execution_count": null,
      "outputs": []
    },
    {
      "cell_type": "code",
      "source": [
        "# Async Communication\n",
        "class AsyncCommunicationManager:\n",
        "    def __init__(self):\n",
        "        self.client_priorities = {}\n",
        "        self.staleness = {}\n",
        "        self.update_queue = []\n",
        "        self.accumulated_grads = defaultdict(list)\n",
        "        self.selected_history = []\n",
        "\n",
        "    def update_priority(self, client_id, data_size, gradient_norm, staleness, accuracy):\n",
        "        data_importance = data_size * (gradient_norm + 1e-6)\n",
        "        freshness = 1 / (1 + staleness)\n",
        "        fairness = 1.0 - min(accuracy / 100.0, 1.0)\n",
        "        priority = data_importance * freshness * (1 + fairness)\n",
        "        self.client_priorities[client_id] = priority\n",
        "        self.staleness[client_id] = staleness\n",
        "        return priority\n",
        "\n",
        "    def add_update(self, client_id, model_update, priority, round_num, sync_freq):\n",
        "        self.accumulated_grads[client_id].append(model_update)\n",
        "        if round_num % sync_freq == 0 or len(self.accumulated_grads[client_id]) >= sync_freq:\n",
        "            avg_update = copy.deepcopy(self.accumulated_grads[client_id][0])\n",
        "            state_dict = avg_update.state_dict()\n",
        "            for key in state_dict:\n",
        "                state_dict[key] = torch.zeros_like(state_dict[key])\n",
        "                for update in self.accumulated_grads[client_id]:\n",
        "                    state_dict[key] += update.state_dict()[key]\n",
        "                state_dict[key] /= len(self.accumulated_grads[client_id])\n",
        "            avg_update.load_state_dict(state_dict)\n",
        "            heapq.heappush(self.update_queue, (-priority, client_id, avg_update))\n",
        "            self.accumulated_grads[client_id] = []\n",
        "\n",
        "    def get_updates(self, max_updates=5):\n",
        "        selected_updates, selected_clients = [], []\n",
        "        while len(selected_updates) < max_updates and self.update_queue:\n",
        "            priority, client_id, update = heapq.heappop(self.update_queue)\n",
        "            selected_updates.append(update)\n",
        "            selected_clients.append(client_id)\n",
        "\n",
        "        self.selected_history.append(selected_clients)\n",
        "        return selected_updates, selected_clients"
      ],
      "metadata": {
        "id": "0CkD9xjK0pjV"
      },
      "execution_count": null,
      "outputs": []
    },
    {
      "cell_type": "code",
      "source": [
        "# DQN network\n",
        "class DQN(nn.Module):\n",
        "    def __init__(self, input_size, output_size):\n",
        "        super(DQN, self).__init__()\n",
        "        self.fc1 = nn.Linear(input_size, 64)\n",
        "        self.fc2 = nn.Linear(64, 32)\n",
        "        self.out = nn.Linear(32, output_size)\n",
        "\n",
        "    def forward(self, x):\n",
        "        x = F.relu(self.fc1(x))\n",
        "        x = F.relu(self.fc2(x))\n",
        "        return self.out(x)\n",
        "\n",
        "# RL optimizer\n",
        "class RLOptimizer:\n",
        "    def __init__(self, input_size=2, action_space=12):\n",
        "        self.device = torch.device(\"cuda\" if torch.cuda.is_available() else \"cpu\")\n",
        "        self.action_space = action_space\n",
        "        self.model = DQN(input_size, action_space).to(self.device)\n",
        "        self.target_model = DQN(input_size, action_space).to(self.device)\n",
        "        self.target_model.load_state_dict(self.model.state_dict())\n",
        "        self.optimizer = torch.optim.Adam(self.model.parameters(), lr=1e-3)\n",
        "\n",
        "        self.replay_buffer = []\n",
        "        self.gamma = 0.95\n",
        "        self.epsilon = 1.0\n",
        "        self.epsilon_min = 0.05\n",
        "        self.epsilon_decay = 0.995\n",
        "        self.batch_size = 32\n",
        "        self.update_target_every = 10\n",
        "        self.step = 0\n",
        "\n",
        "        self.compression_options = [0.1, 0.2, 0.3, 0.4]\n",
        "        self.sync_options = [1, 2, 3]\n",
        "        self.action_history = []\n",
        "\n",
        "    def encode_state(self, divergence, avg_accuracy):\n",
        "        # Normalize based on observed ranges\n",
        "        norm_div = min(divergence / 5.0, 1.0)\n",
        "        norm_acc = avg_accuracy / 100.0\n",
        "        return torch.tensor([norm_div, norm_acc], dtype=torch.float32).unsqueeze(0).to(self.device)\n",
        "\n",
        "    def select_action(self, divergence, avg_accuracy):\n",
        "        state = self.encode_state(divergence, avg_accuracy)\n",
        "        if torch.rand(1).item() < self.epsilon:\n",
        "            action_idx = torch.randint(0, self.action_space, (1,)).item()\n",
        "        else:\n",
        "            with torch.no_grad():\n",
        "                q_values = self.model(state)\n",
        "                action_idx = torch.argmax(q_values).item()\n",
        "\n",
        "        action = self.decode_action(action_idx)\n",
        "        self.action_history.append((divergence, avg_accuracy, action))\n",
        "        return action, action_idx\n",
        "\n",
        "    def decode_action(self, idx):\n",
        "        comp_idx = idx // len(self.sync_options)\n",
        "        sync_idx = idx % len(self.sync_options)\n",
        "        return {\n",
        "            'compression_rate': self.compression_options[min(comp_idx, len(self.compression_options)-1)],\n",
        "            'sync_frequency': self.sync_options[min(sync_idx, len(self.sync_options)-1)]\n",
        "        }\n",
        "\n",
        "    def store(self, state, action_idx, reward, next_state):\n",
        "        self.replay_buffer.append((state, action_idx, reward, next_state))\n",
        "        if len(self.replay_buffer) > 5000:\n",
        "            self.replay_buffer.pop(0)\n",
        "\n",
        "    def train(self):\n",
        "        if len(self.replay_buffer) < self.batch_size:\n",
        "            return\n",
        "\n",
        "        batch = random.sample(self.replay_buffer, self.batch_size)\n",
        "        states, actions, rewards, next_states = zip(*batch)\n",
        "\n",
        "        states = torch.stack(states).to(self.device)\n",
        "        actions = torch.tensor(actions, dtype=torch.long).to(self.device)\n",
        "        rewards = torch.tensor(rewards, dtype=torch.float32).to(self.device)\n",
        "        next_states = torch.stack(next_states).to(self.device)\n",
        "\n",
        "        q_values = self.model(states)\n",
        "        next_q_values = self.target_model(next_states)\n",
        "        q_target = rewards + self.gamma * next_q_values.max(dim=1)[0]\n",
        "\n",
        "        q_selected = q_values.gather(1, actions.unsqueeze(1)).squeeze()\n",
        "        loss = F.mse_loss(q_selected, q_target.detach())\n",
        "\n",
        "        self.optimizer.zero_grad()\n",
        "        loss.backward()\n",
        "        self.optimizer.step()\n",
        "\n",
        "        self.step += 1\n",
        "        if self.step % self.update_target_every == 0:\n",
        "            self.target_model.load_state_dict(self.model.state_dict())\n",
        "\n",
        "        self.epsilon = max(self.epsilon * self.epsilon_decay, self.epsilon_min)"
      ],
      "metadata": {
        "id": "zY-7Q7lc0rND"
      },
      "execution_count": null,
      "outputs": []
    },
    {
      "cell_type": "code",
      "source": [
        "# Gradient Compression\n",
        "class GradientCompressor:\n",
        "    def __init__(self, compression_rate=0.5, compression_mode=\"8bit\"):\n",
        "        self.compression_rate = max(0.1, min(0.9, compression_rate))\n",
        "        self.compression_mode = compression_mode\n",
        "        self.layer_importance = {\n",
        "            'conv1': 0.8,\n",
        "            'conv2': 0.7,\n",
        "            'fc1': 0.5,\n",
        "            'fc2': 0.3\n",
        "        }\n",
        "        self.history = []\n",
        "\n",
        "    def compress(self, model):\n",
        "        compressed_model = copy.deepcopy(model)\n",
        "        state_dict = compressed_model.state_dict()\n",
        "\n",
        "        for key in state_dict:\n",
        "            if 'weight' in key or 'bias' in key:\n",
        "                layer_name = key.split('.')[0]\n",
        "                importance = self.layer_importance.get(layer_name, 0.5)\n",
        "                rate = max(0.1, min(0.9, self.compression_rate * importance))\n",
        "\n",
        "                tensor = state_dict[key].detach().cpu().numpy().flatten()\n",
        "\n",
        "                # Top-K Sparsification\n",
        "                k = max(1, int(rate * tensor.size))\n",
        "                topk_indices = np.argpartition(np.abs(tensor), -k)[-k:]\n",
        "                sparse_tensor = np.zeros_like(tensor)\n",
        "                sparse_tensor[topk_indices] = tensor[topk_indices]\n",
        "\n",
        "                # Compression Mode\n",
        "                if self.compression_mode == \"1bit\":\n",
        "                    compressed = np.sign(sparse_tensor).astype(np.int8)\n",
        "                    decompressed = compressed.astype(np.float32)\n",
        "                else:\n",
        "                    max_val = np.max(np.abs(sparse_tensor)) + 1e-8\n",
        "                    quantized = np.round((sparse_tensor / max_val) * 127).astype(np.int8)\n",
        "                    decompressed = (quantized.astype(np.float32) / 127) * max_val\n",
        "\n",
        "                state_dict[key] = torch.tensor(decompressed.reshape(state_dict[key].shape)).to(device)\n",
        "\n",
        "        self.history.append(self.compression_rate)\n",
        "        compressed_model.load_state_dict(state_dict)\n",
        "        return compressed_model"
      ],
      "metadata": {
        "id": "VuKrDq_a0tCg"
      },
      "execution_count": null,
      "outputs": []
    },
    {
      "cell_type": "code",
      "source": [
        "# FL Simulator\n",
        "class FederatedLearningSimulator:\n",
        "    def __init__(self, num_clients=10, num_clusters=3, num_rounds=30, warmup_rounds=10, epochs_per_client=1):\n",
        "        self.num_clients = num_clients\n",
        "        self.num_clusters = num_clusters\n",
        "        self.num_rounds = num_rounds\n",
        "        self.epochs_per_client = epochs_per_client\n",
        "        self.warmup_rounds = warmup_rounds\n",
        "\n",
        "        self.client_datasets, self.test_dataset = prepare_non_iid_data(num_clients)\n",
        "        self.global_model = FedModel().to(device)\n",
        "        self.client_models = {i: copy.deepcopy(self.global_model) for i in range(num_clients)}\n",
        "        self.cluster_manager = ClusterManager(num_clients, num_clusters)\n",
        "        self.async_manager = AsyncCommunicationManager()\n",
        "        self.rl_optimizer = RLOptimizer()\n",
        "        self.compressor = GradientCompressor()\n",
        "\n",
        "        self.accuracy_history = []\n",
        "        self.communication_cost = []\n",
        "        self.compression_rates = []\n",
        "        self.sync_frequencies = []\n",
        "        self.client_accuracies = defaultdict(list)\n",
        "        self.cluster_accuracies = defaultdict(list)\n",
        "        self.client_dropouts = defaultdict(int)\n",
        "        self.best_accuracy = 0.0\n",
        "        self.best_model = None\n",
        "        self.selected_clients_history = []\n",
        "        self.cluster_sizes_history = []\n",
        "        self.round_times = []\n",
        "\n",
        "    def client_update(self, client_id, epochs=1):\n",
        "        model = self.client_models[client_id]\n",
        "        if client_id >= len(self.client_datasets) or len(self.client_datasets[client_id]) == 0:\n",
        "            self.client_dropouts[client_id] += 1\n",
        "            return model\n",
        "\n",
        "        loader = torch.utils.data.DataLoader(self.client_datasets[client_id], batch_size=32, shuffle=True)\n",
        "        optimizer = optim.SGD(model.parameters(), lr=0.01, momentum=0.9)\n",
        "        criterion = nn.NLLLoss()\n",
        "\n",
        "        for _ in range(epochs):\n",
        "            for x, y in loader:\n",
        "                x, y = x.to(device), y.to(device)\n",
        "                optimizer.zero_grad()\n",
        "                output = model(x)\n",
        "                loss = criterion(output, y)\n",
        "                loss.backward()\n",
        "                optimizer.step()\n",
        "\n",
        "        self.update_layer_importance(model)\n",
        "        return model\n",
        "\n",
        "    def update_layer_importance(self, model):\n",
        "        total_grad = 1e-6\n",
        "        grad_norms = {}\n",
        "\n",
        "        for name, param in model.named_parameters():\n",
        "            if param.grad is not None:\n",
        "                grad_norm = torch.norm(param.grad).item()\n",
        "                layer = name.split('.')[0]\n",
        "                grad_norms[layer] = grad_norms.get(layer, 0) + grad_norm\n",
        "                total_grad += grad_norm\n",
        "\n",
        "        for layer, norm in grad_norms.items():\n",
        "            new_score = norm / total_grad\n",
        "            model.importance_scores[layer] = (\n",
        "                model.importance_momentum * model.importance_scores[layer] +\n",
        "                (1 - model.importance_momentum) * new_score\n",
        "            )\n",
        "            self.compressor.layer_importance[layer] = model.importance_scores[layer]\n",
        "\n",
        "    def evaluate(self, model, dataset=None):\n",
        "        if dataset is None:\n",
        "            dataset = self.test_dataset\n",
        "        model.eval()\n",
        "        correct = 0\n",
        "        loader = torch.utils.data.DataLoader(dataset, batch_size=64, shuffle=False)\n",
        "        with torch.no_grad():\n",
        "            for x, y in loader:\n",
        "                x, y = x.to(device), y.to(device)\n",
        "                output = model(x)\n",
        "                pred = output.argmax(dim=1, keepdim=True)\n",
        "                correct += pred.eq(y.view_as(pred)).sum().item()\n",
        "        accuracy = 100. * correct / len(dataset)\n",
        "        return accuracy\n",
        "\n",
        "    def run(self):\n",
        "        criterion = nn.NLLLoss()\n",
        "        selected_clients = []\n",
        "\n",
        "        print(\"Starting Federated Learning Training...\")\n",
        "        print(f\"{'Round':<6} {'Accuracy':<10} {'Comm Cost':<12} {'Comp Rate':<10} {'Sync Freq':<10} {'Clusters':<10}\")\n",
        "        print(\"-\" * 70)\n",
        "\n",
        "        for round_num in tqdm(range(self.num_rounds), desc=\"FL Training\"):\n",
        "            round_start = time.time()\n",
        "            is_warmup = round_num < self.warmup_rounds\n",
        "            divergence = 0.0\n",
        "\n",
        "            if is_warmup:\n",
        "                compression_rate = 0.5\n",
        "                sync_freq = 2\n",
        "            else:\n",
        "                stds = [np.std(v) for v in self.client_accuracies.values() if len(v) > 1]\n",
        "                divergence = np.mean(stds) if stds else 0.0\n",
        "                accuracies = [v[-1] for v in self.client_accuracies.values() if len(v) > 0]\n",
        "                avg_accuracy = np.mean(accuracies) if accuracies else 0.0\n",
        "                rl_action, action_idx = self.rl_optimizer.select_action(divergence, avg_accuracy)\n",
        "                compression_rate = rl_action['compression_rate']\n",
        "                sync_freq = rl_action['sync_frequency']\n",
        "\n",
        "            # Smooth compression rate changes\n",
        "            if self.compression_rates:\n",
        "                smoothed_rate = 0.7 * self.compression_rates[-1] + 0.3 * compression_rate\n",
        "            else:\n",
        "                smoothed_rate = compression_rate\n",
        "\n",
        "            self.compressor.compression_rate = smoothed_rate\n",
        "            self.compression_rates.append(smoothed_rate)\n",
        "            self.sync_frequencies.append(sync_freq)\n",
        "\n",
        "            # Client updates\n",
        "            for client_id in range(self.num_clients):\n",
        "                model = self.client_update(client_id, self.epochs_per_client)\n",
        "                dataset = self.client_datasets[client_id]\n",
        "\n",
        "                if len(dataset) > 0:\n",
        "                    loader = torch.utils.data.DataLoader(dataset, batch_size=64, shuffle=True)\n",
        "                    x, y = next(iter(loader))\n",
        "                    x, y = x.to(device), y.to(device)\n",
        "\n",
        "                    output = model(x)\n",
        "                    grad_norm = torch.norm(torch.cat([p.grad.flatten() for p in model.parameters() if p.grad is not None]))\n",
        "\n",
        "                    acc = self.evaluate(model, dataset)\n",
        "                    self.client_accuracies[client_id].append(acc)\n",
        "\n",
        "                    stale = self.async_manager.staleness.get(client_id, 0)\n",
        "                    priority = self.async_manager.update_priority(client_id, len(dataset), grad_norm.item(), stale, acc)\n",
        "\n",
        "                    compressed = self.compressor.compress(model)\n",
        "                    self.async_manager.add_update(client_id, compressed, priority, round_num, sync_freq)\n",
        "                    self.async_manager.staleness[client_id] = stale + 1\n",
        "\n",
        "            # Global aggregation\n",
        "            if round_num % max(1, sync_freq) == 0:\n",
        "                updates, selected_clients = self.async_manager.get_updates(max_updates=5)\n",
        "                self.selected_clients_history.append((round_num, selected_clients))\n",
        "\n",
        "                if updates:\n",
        "                    global_state = self.global_model.state_dict()\n",
        "                    for key in global_state:\n",
        "                        global_state[key] = torch.stack([u.state_dict()[key] for u in updates]).mean(0)\n",
        "                        global_state[key] = 0.9 * self.global_model.state_dict()[key] + 0.1 * global_state[key]\n",
        "                    self.global_model.load_state_dict(global_state)\n",
        "\n",
        "                    for cid in selected_clients:\n",
        "                        self.client_models[cid] = copy.deepcopy(self.global_model)\n",
        "                        self.async_manager.staleness[cid] = 0\n",
        "\n",
        "            # Cluster updates\n",
        "            if round_num % 3 == 0:\n",
        "                self.cluster_manager.update_clusters(self.client_models, self.client_datasets, criterion, round_num)\n",
        "\n",
        "            # Track cluster sizes\n",
        "            cluster_sizes = {cid: len(clients) for cid, clients in self.cluster_manager.clusters.items()}\n",
        "            self.cluster_sizes_history.append((round_num, cluster_sizes))\n",
        "\n",
        "            # Cluster model evaluation\n",
        "            for cid, cluster_model in self.cluster_manager.cluster_models.items():\n",
        "                acc = self.evaluate(cluster_model, self.test_dataset)\n",
        "                self.cluster_accuracies[cid].append(acc)\n",
        "                if cid in self.cluster_manager.clusters:\n",
        "                    for client_id in self.cluster_manager.clusters[cid]:\n",
        "                        self.client_models[client_id] = copy.deepcopy(cluster_model)\n",
        "\n",
        "            # Global evaluation\n",
        "            acc = self.evaluate(self.global_model)\n",
        "            self.accuracy_history.append(acc)\n",
        "            if acc > self.best_accuracy:\n",
        "                self.best_accuracy = acc\n",
        "                self.best_model = copy.deepcopy(self.global_model)\n",
        "                torch.save(self.best_model.state_dict(), \"best_model.pth\")\n",
        "\n",
        "            # Communication cost calculation\n",
        "            cost = sum(p.numel() for p in self.global_model.parameters()) * len(selected_clients) * smoothed_rate\n",
        "            self.communication_cost.append(cost)\n",
        "\n",
        "            # RL training (after warmup)\n",
        "            if not is_warmup:\n",
        "                final_accs = [self.client_accuracies[c][-1] for c in selected_clients if len(self.client_accuracies[c]) > 0]\n",
        "                fairness = 1.0 - np.std(final_accs) if len(final_accs) > 1 else 1.0\n",
        "                alpha = 0.005 * (1 + round_num / self.num_rounds)\n",
        "                reward = acc + 0.5 * fairness - alpha * cost + 0.1 * len(selected_clients)\n",
        "                state = self.rl_optimizer.encode_state(divergence, avg_accuracy)\n",
        "                next_state = state\n",
        "                self.rl_optimizer.store(state, action_idx, reward, next_state)\n",
        "                self.rl_optimizer.train()\n",
        "\n",
        "            # Round time tracking\n",
        "            round_time = time.time() - round_start\n",
        "            self.round_times.append(round_time)\n",
        "\n",
        "            # Print progress\n",
        "            print(f\"{round_num:<6} {acc:<10.2f} {cost:<12.2f} {smoothed_rate:<10.2f} {sync_freq:<10} {len(self.cluster_manager.clusters):<10}\")\n",
        "\n",
        "        print(\"\\nTraining Complete!\")\n",
        "        print(f\"Best Accuracy Achieved: {self.best_accuracy:.2f}%\")\n",
        "\n",
        "    def visualize_results(self):\n",
        "        plt.figure(figsize=(12, 5))\n",
        "\n",
        "        # Accuracy\n",
        "        plt.subplot(1, 2, 1)\n",
        "        plt.plot(self.accuracy_history, label='Global Accuracy', color='blue')\n",
        "        plt.xlabel('Rounds')\n",
        "        plt.ylabel('Accuracy (%)')\n",
        "        plt.title('Model Accuracy Over Rounds')\n",
        "        plt.grid(True)\n",
        "\n",
        "        # Communication Cost\n",
        "        plt.subplot(1, 2, 2)\n",
        "        plt.plot(self.communication_cost, label='Communication Cost', color='orange')\n",
        "        plt.xlabel('Rounds')\n",
        "        plt.ylabel('Communication Cost')\n",
        "        plt.title('Communication Cost Over Rounds')\n",
        "        plt.grid(True)"
      ],
      "metadata": {
        "id": "tjLxqhG40u3c"
      },
      "execution_count": null,
      "outputs": []
    },
    {
      "cell_type": "code",
      "source": [
        "# Main\n",
        "if __name__ == \"__main__\":\n",
        "    start_time = time.time()\n",
        "\n",
        "    simulator = FederatedLearningSimulator(\n",
        "        num_clients=10,\n",
        "        num_clusters=3,\n",
        "        num_rounds=30,\n",
        "        warmup_rounds=10,\n",
        "        epochs_per_client=1\n",
        "    )\n",
        "    simulator.run()\n",
        "    simulator.visualize_results()\n",
        "    torch.save(simulator.best_model.state_dict(), \"final_model.pth\")\n",
        "\n",
        "    print(f\"\\nTotal execution time: {(time.time() - start_time)/60:.2f} minutes\")"
      ],
      "metadata": {
        "colab": {
          "base_uri": "https://localhost:8080/",
          "height": 1000
        },
        "id": "kK-vSNUY0wfz",
        "outputId": "176e2a8d-335f-460c-b86c-d4fa22b05d8a"
      },
      "execution_count": null,
      "outputs": [
        {
          "output_type": "stream",
          "name": "stderr",
          "text": [
            "100%|██████████| 9.91M/9.91M [00:00<00:00, 15.9MB/s]\n",
            "100%|██████████| 28.9k/28.9k [00:00<00:00, 489kB/s]\n",
            "100%|██████████| 1.65M/1.65M [00:00<00:00, 4.45MB/s]\n",
            "100%|██████████| 4.54k/4.54k [00:00<00:00, 6.85MB/s]\n"
          ]
        },
        {
          "output_type": "stream",
          "name": "stdout",
          "text": [
            "Starting Federated Learning Training...\n",
            "Round  Accuracy   Comm Cost    Comp Rate  Sync Freq  Clusters  \n",
            "----------------------------------------------------------------------\n"
          ]
        },
        {
          "output_type": "stream",
          "name": "stderr",
          "text": [
            "\rFL Training:   0%|          | 0/30 [00:00<?, ?it/s]"
          ]
        },
        {
          "output_type": "stream",
          "name": "stdout",
          "text": [
            "[Cluster] Silhouette-optimal clusters: 2\n"
          ]
        },
        {
          "output_type": "stream",
          "name": "stderr",
          "text": [
            "\rFL Training:   3%|▎         | 1/30 [00:38<18:42, 38.72s/it]"
          ]
        },
        {
          "output_type": "stream",
          "name": "stdout",
          "text": [
            "0      44.23      2999705.00   0.50       2          2         \n"
          ]
        },
        {
          "output_type": "stream",
          "name": "stderr",
          "text": [
            "\rFL Training:   7%|▋         | 2/30 [01:15<17:38, 37.80s/it]"
          ]
        },
        {
          "output_type": "stream",
          "name": "stdout",
          "text": [
            "1      44.23      2999705.00   0.50       2          2         \n"
          ]
        },
        {
          "output_type": "stream",
          "name": "stderr",
          "text": [
            "\rFL Training:  10%|█         | 3/30 [01:51<16:38, 36.97s/it]"
          ]
        },
        {
          "output_type": "stream",
          "name": "stdout",
          "text": [
            "2      72.04      2999705.00   0.50       2          2         \n",
            "[Cluster] Silhouette-optimal clusters: 2\n"
          ]
        },
        {
          "output_type": "stream",
          "name": "stderr",
          "text": [
            "\rFL Training:  13%|█▎        | 4/30 [02:28<15:55, 36.74s/it]"
          ]
        },
        {
          "output_type": "stream",
          "name": "stdout",
          "text": [
            "3      72.04      2999705.00   0.50       2          2         \n"
          ]
        },
        {
          "output_type": "stream",
          "name": "stderr",
          "text": [
            "\rFL Training:  17%|█▋        | 5/30 [03:04<15:09, 36.40s/it]"
          ]
        },
        {
          "output_type": "stream",
          "name": "stdout",
          "text": [
            "4      79.24      2999705.00   0.50       2          2         \n"
          ]
        },
        {
          "output_type": "stream",
          "name": "stderr",
          "text": [
            "\rFL Training:  20%|██        | 6/30 [03:39<14:26, 36.09s/it]"
          ]
        },
        {
          "output_type": "stream",
          "name": "stdout",
          "text": [
            "5      79.24      2999705.00   0.50       2          2         \n",
            "[Cluster] Silhouette-optimal clusters: 4\n"
          ]
        },
        {
          "output_type": "stream",
          "name": "stderr",
          "text": [
            "\rFL Training:  23%|██▎       | 7/30 [04:19<14:20, 37.41s/it]"
          ]
        },
        {
          "output_type": "stream",
          "name": "stdout",
          "text": [
            "6      85.89      2999705.00   0.50       2          4         \n"
          ]
        },
        {
          "output_type": "stream",
          "name": "stderr",
          "text": [
            "\rFL Training:  27%|██▋       | 8/30 [04:59<13:58, 38.13s/it]"
          ]
        },
        {
          "output_type": "stream",
          "name": "stdout",
          "text": [
            "7      85.89      2999705.00   0.50       2          4         \n"
          ]
        },
        {
          "output_type": "stream",
          "name": "stderr",
          "text": [
            "\rFL Training:  30%|███       | 9/30 [05:39<13:32, 38.70s/it]"
          ]
        },
        {
          "output_type": "stream",
          "name": "stdout",
          "text": [
            "8      89.36      2999705.00   0.50       2          4         \n",
            "[Cluster] Silhouette-optimal clusters: 2\n"
          ]
        },
        {
          "output_type": "stream",
          "name": "stderr",
          "text": [
            "\rFL Training:  33%|███▎      | 10/30 [06:19<13:04, 39.21s/it]"
          ]
        },
        {
          "output_type": "stream",
          "name": "stdout",
          "text": [
            "9      89.36      2999705.00   0.50       2          2         \n"
          ]
        },
        {
          "output_type": "stream",
          "name": "stderr",
          "text": [
            "\rFL Training:  37%|███▋      | 11/30 [06:58<12:25, 39.23s/it]"
          ]
        },
        {
          "output_type": "stream",
          "name": "stdout",
          "text": [
            "10     89.36      2639740.40   0.44       3          2         \n"
          ]
        },
        {
          "output_type": "stream",
          "name": "stderr",
          "text": [
            "\rFL Training:  40%|████      | 12/30 [07:38<11:47, 39.31s/it]"
          ]
        },
        {
          "output_type": "stream",
          "name": "stdout",
          "text": [
            "11     89.36      2387765.18   0.40       2          2         \n"
          ]
        },
        {
          "output_type": "stream",
          "name": "stderr",
          "text": [
            "\rFL Training:  43%|████▎     | 13/30 [08:18<11:12, 39.56s/it]"
          ]
        },
        {
          "output_type": "stream",
          "name": "stdout",
          "text": [
            "12     91.44      2391364.83   0.40       2          2         \n"
          ]
        },
        {
          "output_type": "stream",
          "name": "stderr",
          "text": [
            "\rFL Training:  47%|████▋     | 14/30 [08:57<10:31, 39.48s/it]"
          ]
        },
        {
          "output_type": "stream",
          "name": "stdout",
          "text": [
            "13     91.44      1853937.68   0.31       3          2         \n"
          ]
        },
        {
          "output_type": "stream",
          "name": "stderr",
          "text": [
            "\rFL Training:  50%|█████     | 15/30 [09:37<09:54, 39.60s/it]"
          ]
        },
        {
          "output_type": "stream",
          "name": "stdout",
          "text": [
            "14     93.14      1657720.97   0.28       2          2         \n"
          ]
        },
        {
          "output_type": "stream",
          "name": "stderr",
          "text": [
            "\rFL Training:  53%|█████▎    | 16/30 [10:17<09:17, 39.79s/it]"
          ]
        },
        {
          "output_type": "stream",
          "name": "stdout",
          "text": [
            "15     93.14      1340386.98   0.22       2          2         \n"
          ]
        },
        {
          "output_type": "stream",
          "name": "stderr",
          "text": [
            "\rFL Training:  57%|█████▋    | 17/30 [11:04<09:04, 41.89s/it]"
          ]
        },
        {
          "output_type": "stream",
          "name": "stdout",
          "text": [
            "16     93.77      1478217.79   0.25       1          2         \n"
          ]
        },
        {
          "output_type": "stream",
          "name": "stderr",
          "text": [
            "\rFL Training:  60%|██████    | 18/30 [11:48<08:28, 42.41s/it]"
          ]
        },
        {
          "output_type": "stream",
          "name": "stdout",
          "text": [
            "17     93.77      1574699.35   0.26       3          2         \n"
          ]
        },
        {
          "output_type": "stream",
          "name": "stderr",
          "text": [
            "\rFL Training:  63%|██████▎   | 19/30 [12:39<08:14, 44.93s/it]"
          ]
        },
        {
          "output_type": "stream",
          "name": "stdout",
          "text": [
            "18     93.81      1282271.85   0.21       2          2         \n"
          ]
        },
        {
          "output_type": "stream",
          "name": "stderr",
          "text": [
            "\rFL Training:  67%|██████▋   | 20/30 [13:23<07:28, 44.87s/it]"
          ]
        },
        {
          "output_type": "stream",
          "name": "stdout",
          "text": [
            "19     94.49      1257554.89   0.21       1          2         \n"
          ]
        },
        {
          "output_type": "stream",
          "name": "stderr",
          "text": [
            "\rFL Training:  70%|███████   | 21/30 [14:15<07:02, 46.95s/it]"
          ]
        },
        {
          "output_type": "stream",
          "name": "stdout",
          "text": [
            "20     95.13      1420235.32   0.24       2          2         \n"
          ]
        },
        {
          "output_type": "stream",
          "name": "stderr",
          "text": [
            "\rFL Training:  73%|███████▎  | 22/30 [14:59<06:08, 46.05s/it]"
          ]
        },
        {
          "output_type": "stream",
          "name": "stdout",
          "text": [
            "21     95.59      1714093.93   0.29       1          2         \n"
          ]
        },
        {
          "output_type": "stream",
          "name": "stderr",
          "text": [
            "\rFL Training:  77%|███████▋  | 23/30 [15:39<05:09, 44.27s/it]"
          ]
        },
        {
          "output_type": "stream",
          "name": "stdout",
          "text": [
            "22     95.59      1919794.95   0.32       3          2         \n"
          ]
        },
        {
          "output_type": "stream",
          "name": "stderr",
          "text": [
            "\rFL Training:  80%|████████  | 24/30 [16:20<04:19, 43.25s/it]"
          ]
        },
        {
          "output_type": "stream",
          "name": "stdout",
          "text": [
            "23     95.62      1703821.06   0.28       1          2         \n"
          ]
        },
        {
          "output_type": "stream",
          "name": "stderr",
          "text": [
            "\rFL Training:  83%|████████▎ | 25/30 [17:01<03:32, 42.42s/it]"
          ]
        },
        {
          "output_type": "stream",
          "name": "stdout",
          "text": [
            "24     95.72      1732621.65   0.29       3          2         \n"
          ]
        },
        {
          "output_type": "stream",
          "name": "stderr",
          "text": [
            "\rFL Training:  87%|████████▋ | 26/30 [17:40<02:46, 41.61s/it]"
          ]
        },
        {
          "output_type": "stream",
          "name": "stdout",
          "text": [
            "25     95.72      1752782.05   0.29       3          2         \n"
          ]
        },
        {
          "output_type": "stream",
          "name": "stderr",
          "text": [
            "\rFL Training:  90%|█████████ | 27/30 [18:21<02:03, 41.20s/it]"
          ]
        },
        {
          "output_type": "stream",
          "name": "stdout",
          "text": [
            "26     95.72      1406929.74   0.23       3          2         \n"
          ]
        },
        {
          "output_type": "stream",
          "name": "stderr",
          "text": [
            "\rFL Training:  93%|█████████▎| 28/30 [19:01<01:21, 40.84s/it]"
          ]
        },
        {
          "output_type": "stream",
          "name": "stdout",
          "text": [
            "27     95.93      1344815.42   0.22       1          2         \n"
          ]
        },
        {
          "output_type": "stream",
          "name": "stderr",
          "text": [
            "\rFL Training:  97%|█████████▋| 29/30 [19:40<00:40, 40.46s/it]"
          ]
        },
        {
          "output_type": "stream",
          "name": "stdout",
          "text": [
            "28     95.93      1121353.09   0.19       3          2         \n"
          ]
        },
        {
          "output_type": "stream",
          "name": "stderr",
          "text": [
            "FL Training: 100%|██████████| 30/30 [20:20<00:00, 40.68s/it]"
          ]
        },
        {
          "output_type": "stream",
          "name": "stdout",
          "text": [
            "29     96.00      1504876.36   0.25       1          2         \n",
            "\n",
            "Training Complete!\n",
            "Best Accuracy Achieved: 96.00%\n",
            "\n",
            "Total execution time: 20.41 minutes\n"
          ]
        },
        {
          "output_type": "stream",
          "name": "stderr",
          "text": [
            "\n"
          ]
        },
        {
          "output_type": "display_data",
          "data": {
            "text/plain": [
              "<Figure size 1200x500 with 2 Axes>"
            ],
            "image/png": "[encoded data removed]"
          },
          "metadata": {}
        }
      ]
    },
    {
      "cell_type": "code",
      "source": [
        "#FedAvg + Clustering\n",
        "\n",
        "class FedAvgSimulator:\n",
        "    def __init__(self, num_clients=10, num_rounds=30, epochs_per_client=1, num_clusters=3, cluster_every=5):\n",
        "        self.num_clients = num_clients\n",
        "        self.num_rounds = num_rounds\n",
        "        self.epochs_per_client = epochs_per_client\n",
        "        self.num_clusters = num_clusters\n",
        "        self.cluster_every = cluster_every\n",
        "        self.client_datasets, self.test_dataset = prepare_non_iid_data(num_clients)\n",
        "        self.global_model = FedModel().to(device)\n",
        "        self.communication_cost = []\n",
        "        self.accuracy_history = []\n",
        "        self.best_accuracy = 0.0\n",
        "        self.clusters = {i: list(range(num_clients)) for i in range(self.num_clusters)}\n",
        "\n",
        "    def client_update(self, model, dataset, epochs):\n",
        "        local_model = copy.deepcopy(model)\n",
        "        optimizer = optim.SGD(local_model.parameters(), lr=0.01, momentum=0.9)\n",
        "        criterion = nn.NLLLoss()\n",
        "        loader = torch.utils.data.DataLoader(dataset, batch_size=32, shuffle=True)\n",
        "        local_model.train()\n",
        "        for _ in range(epochs):\n",
        "            for x, y in loader:\n",
        "                x, y = x.to(device), y.to(device)\n",
        "                optimizer.zero_grad()\n",
        "                output = local_model(x)\n",
        "                loss = criterion(output, y)\n",
        "                loss.backward()\n",
        "                optimizer.step()\n",
        "        return local_model.state_dict()\n",
        "\n",
        "    def evaluate(self):\n",
        "        self.global_model.eval()\n",
        "        correct = 0\n",
        "        loader = torch.utils.data.DataLoader(self.test_dataset, batch_size=64, shuffle=False)\n",
        "        with torch.no_grad():\n",
        "            for x, y in loader:\n",
        "                x, y = x.to(device), y.to(device)\n",
        "                output = self.global_model(x)\n",
        "                pred = output.argmax(dim=1, keepdim=True)\n",
        "                correct += pred.eq(y.view_as(pred)).sum().item()\n",
        "        return 100. * correct / len(self.test_dataset)\n",
        "\n",
        "    def extract_embeddings(self, models):\n",
        "        embeddings = []\n",
        "        for state_dict in models:\n",
        "            flat = torch.cat([v.view(-1) for v in state_dict.values()])\n",
        "            embeddings.append(flat.cpu().numpy())\n",
        "        return np.array(embeddings)\n",
        "\n",
        "    def cluster_clients(self, client_models):\n",
        "        embeddings = self.extract_embeddings(client_models)\n",
        "        kmeans = KMeans(n_clusters=self.num_clusters, random_state=42)\n",
        "        labels = kmeans.fit_predict(embeddings)\n",
        "        clusters = {i: [] for i in range(self.num_clusters)}\n",
        "        for cid, label in enumerate(labels):\n",
        "            clusters[label].append(cid)\n",
        "        return clusters\n",
        "\n",
        "    def run(self):\n",
        "        print(\"\\nStarting FedAvg + Clustering Training...\")\n",
        "        print(f\"{'Round':<6} {'Accuracy':<10} {'Comm Cost':<12}\")\n",
        "        print(\"-\" * 40)\n",
        "\n",
        "        for round_num in range(self.num_rounds):\n",
        "            client_updates = []\n",
        "            for cid in range(self.num_clients):\n",
        "                update = self.client_update(self.global_model, self.client_datasets[cid], self.epochs_per_client)\n",
        "                client_updates.append(update)\n",
        "\n",
        "            # Re-cluster clients every few rounds\n",
        "            if round_num % self.cluster_every == 0 or round_num == 0:\n",
        "                self.clusters = self.cluster_clients(client_updates)\n",
        "                print(f\"[Clustering] Round {round_num}: {self.clusters}\")\n",
        "\n",
        "            # Per-cluster aggregation\n",
        "            aggregated_state = {k: torch.zeros_like(v) for k, v in self.global_model.state_dict().items()}\n",
        "            for cluster_id, client_ids in self.clusters.items():\n",
        "                if not client_ids:\n",
        "                    continue\n",
        "                cluster_models = [client_updates[cid] for cid in client_ids]\n",
        "                for key in aggregated_state:\n",
        "                    aggregated_state[key] += torch.stack([model[key] for model in cluster_models]).mean(0)\n",
        "            # Final aggregation across clusters\n",
        "            for key in aggregated_state:\n",
        "                aggregated_state[key] /= max(1, self.num_clusters)\n",
        "\n",
        "            self.global_model.load_state_dict(aggregated_state)\n",
        "\n",
        "            acc = self.evaluate()\n",
        "            cost = sum(p.numel() for p in self.global_model.parameters()) * self.num_clients\n",
        "            self.accuracy_history.append(acc)\n",
        "            self.communication_cost.append(cost)\n",
        "\n",
        "            self.best_accuracy = max(self.best_accuracy, acc)\n",
        "            print(f\"{round_num:<6} {acc:<10.2f} {cost:<12}\")\n",
        "\n",
        "        print(\"Training Complete. Best Accuracy: %.2f%%\" % self.best_accuracy)\n"
      ],
      "metadata": {
        "id": "kI2OIwYm3MCu"
      },
      "execution_count": null,
      "outputs": []
    },
    {
      "cell_type": "code",
      "source": [
        "if __name__ == \"__main__\":\n",
        "    fedavg_sim = FedAvgSimulator()\n",
        "    fedavg_sim.run()"
      ],
      "metadata": {
        "colab": {
          "base_uri": "https://localhost:8080/"
        },
        "id": "PyLtu4SY3aMm",
        "outputId": "135df82e-2006-4ff8-9c1e-b4eea8bf8b29"
      },
      "execution_count": null,
      "outputs": [
        {
          "output_type": "stream",
          "name": "stdout",
          "text": [
            "\n",
            "Starting FedAvg + Clustering Training...\n",
            "Round  Accuracy   Comm Cost   \n",
            "----------------------------------------\n",
            "[Clustering] Round 0: {0: [3], 1: [1, 2, 4, 5, 6, 7, 8, 9], 2: [0]}\n",
            "0      79.14      11998820    \n",
            "1      92.48      11998820    \n",
            "2      95.31      11998820    \n",
            "3      95.97      11998820    \n",
            "4      96.48      11998820    \n",
            "[Clustering] Round 5: {0: [3], 1: [1, 2, 4, 5, 6, 7, 8, 9], 2: [0]}\n",
            "5      96.46      11998820    \n",
            "6      97.29      11998820    \n",
            "7      97.32      11998820    \n",
            "8      97.61      11998820    \n",
            "9      97.78      11998820    \n",
            "[Clustering] Round 10: {0: [3], 1: [0, 2, 4, 5, 6, 7, 8, 9], 2: [1]}\n",
            "10     97.97      11998820    \n",
            "11     98.16      11998820    \n",
            "12     98.02      11998820    \n",
            "13     98.08      11998820    \n",
            "14     98.16      11998820    \n",
            "[Clustering] Round 15: {0: [1, 2, 3, 4, 5, 7, 8, 9], 1: [6], 2: [0]}\n",
            "15     97.91      11998820    \n",
            "16     98.34      11998820    \n",
            "17     97.85      11998820    \n",
            "18     98.21      11998820    \n",
            "19     98.15      11998820    \n",
            "[Clustering] Round 20: {0: [3], 1: [7, 9], 2: [0, 1, 2, 4, 5, 6, 8]}\n",
            "20     98.11      11998820    \n",
            "21     98.48      11998820    \n",
            "22     98.33      11998820    \n",
            "23     98.32      11998820    \n",
            "24     98.39      11998820    \n",
            "[Clustering] Round 25: {0: [1, 2, 3, 4, 6, 7, 8, 9], 1: [5], 2: [0]}\n",
            "25     98.77      11998820    \n",
            "26     98.85      11998820    \n",
            "27     98.78      11998820    \n",
            "28     98.90      11998820    \n",
            "29     99.02      11998820    \n",
            "Training Complete. Best Accuracy: 99.02%\n"
          ]
        }
      ]
    },
    {
      "cell_type": "code",
      "source": [
        "#FedProx + Asynchronous Communication\n",
        "\n",
        "class FedProxAsyncSimulator:\n",
        "    def __init__(self, num_clients=10, num_rounds=30, epochs_per_client=1, mu=0.01,\n",
        "                 sync_frequency=2, max_async_clients=5):\n",
        "        self.num_clients = num_clients\n",
        "        self.num_rounds = num_rounds\n",
        "        self.epochs_per_client = epochs_per_client\n",
        "        self.mu = mu\n",
        "        self.sync_frequency = sync_frequency\n",
        "        self.max_async_clients = max_async_clients\n",
        "\n",
        "        self.client_datasets, self.test_dataset = prepare_non_iid_data(num_clients)\n",
        "        self.global_model = FedModel().to(device)\n",
        "        self.client_models = [copy.deepcopy(self.global_model) for _ in range(num_clients)]\n",
        "\n",
        "        self.staleness = defaultdict(int)\n",
        "        self.update_queue = []\n",
        "        self.communication_cost = []\n",
        "        self.accuracy_history = []\n",
        "        self.best_accuracy = 0.0\n",
        "\n",
        "    def client_update(self, cid):\n",
        "        local_model = copy.deepcopy(self.client_models[cid])\n",
        "        optimizer = optim.SGD(local_model.parameters(), lr=0.01, momentum=0.9)\n",
        "        criterion = nn.NLLLoss()\n",
        "        dataset = self.client_datasets[cid]\n",
        "        loader = torch.utils.data.DataLoader(dataset, batch_size=32, shuffle=True)\n",
        "        global_weights = self.global_model.state_dict()\n",
        "\n",
        "        local_model.train()\n",
        "        for _ in range(self.epochs_per_client):\n",
        "            for x, y in loader:\n",
        "                x, y = x.to(device), y.to(device)\n",
        "                optimizer.zero_grad()\n",
        "                output = local_model(x)\n",
        "                loss = criterion(output, y)\n",
        "\n",
        "                prox_term = sum(((param - global_weights[name].to(device)) ** 2).sum()\n",
        "                                for name, param in local_model.named_parameters())\n",
        "                loss += (self.mu / 2) * prox_term\n",
        "\n",
        "                loss.backward()\n",
        "                optimizer.step()\n",
        "\n",
        "        return local_model.state_dict()\n",
        "\n",
        "    def evaluate(self):\n",
        "        self.global_model.eval()\n",
        "        correct = 0\n",
        "        loader = torch.utils.data.DataLoader(self.test_dataset, batch_size=64, shuffle=False)\n",
        "        with torch.no_grad():\n",
        "            for x, y in loader:\n",
        "                x, y = x.to(device), y.to(device)\n",
        "                output = self.global_model(x)\n",
        "                pred = output.argmax(dim=1, keepdim=True)\n",
        "                correct += pred.eq(y.view_as(pred)).sum().item()\n",
        "        return 100. * correct / len(self.test_dataset)\n",
        "\n",
        "    def run(self):\n",
        "        print(\"\\nStarting FedProx + Asynchronous Communication...\")\n",
        "        print(f\"{'Round':<6} {'Accuracy':<10} {'Comm Cost':<12}\")\n",
        "        print(\"-\" * 40)\n",
        "\n",
        "        for round_num in range(self.num_rounds):\n",
        "            # Clients sync based on sync_frequency or staleness\n",
        "            for cid in range(self.num_clients):\n",
        "                if round_num % self.sync_frequency == 0 or self.staleness[cid] >= self.sync_frequency:\n",
        "                    update = self.client_update(cid)\n",
        "                    divergence = sum(((update[k] - self.global_model.state_dict()[k]) ** 2).sum()\n",
        "                                     for k in update)\n",
        "                    priority = -divergence.item() / (1 + self.staleness[cid])\n",
        "                    heapq.heappush(self.update_queue, (priority, cid, update))\n",
        "                    self.staleness[cid] = 0\n",
        "                else:\n",
        "                    self.staleness[cid] += 1\n",
        "\n",
        "            # Select top updates\n",
        "            selected_updates = []\n",
        "            selected_clients = []\n",
        "            while self.update_queue and len(selected_updates) < self.max_async_clients:\n",
        "                _, cid, update = heapq.heappop(self.update_queue)\n",
        "                selected_updates.append(update)\n",
        "                selected_clients.append(cid)\n",
        "\n",
        "            # Global model update\n",
        "            if selected_updates:\n",
        "                global_state = self.global_model.state_dict()\n",
        "                for key in global_state:\n",
        "                    global_state[key] = torch.stack([u[key] for u in selected_updates]).mean(0)\n",
        "                self.global_model.load_state_dict(global_state)\n",
        "\n",
        "                # Sync all client models to new global\n",
        "                for cid in range(self.num_clients):\n",
        "                    self.client_models[cid].load_state_dict(self.global_model.state_dict())\n",
        "\n",
        "            # Evaluation\n",
        "            acc = self.evaluate()\n",
        "            cost = sum(p.numel() for p in self.global_model.parameters()) * len(selected_clients)\n",
        "            self.accuracy_history.append(acc)\n",
        "            self.communication_cost.append(cost)\n",
        "            self.best_accuracy = max(self.best_accuracy, acc)\n",
        "\n",
        "            print(f\"{round_num:<6} {acc:<10.2f} {cost:<12}\")\n",
        "\n",
        "        print(\"Training Complete. Best Accuracy: %.2f%%\" % self.best_accuracy)\n"
      ],
      "metadata": {
        "id": "YgW-_xe53NXi"
      },
      "execution_count": null,
      "outputs": []
    },
    {
      "cell_type": "code",
      "source": [
        "if __name__ == \"__main__\":\n",
        "    fedprox_sim = FedProxAsyncSimulator()\n",
        "    fedprox_sim.run()"
      ],
      "metadata": {
        "colab": {
          "base_uri": "https://localhost:8080/"
        },
        "id": "pNHnbaZ53gEO",
        "outputId": "7d5047d1-801f-49e5-b824-bb8dd7fc5c07"
      },
      "execution_count": null,
      "outputs": [
        {
          "output_type": "stream",
          "name": "stdout",
          "text": [
            "\n",
            "Starting FedProx + Asynchronous Communication...\n",
            "Round  Accuracy   Comm Cost   \n",
            "----------------------------------------\n",
            "0      87.61      5999410     \n",
            "1      80.42      5999410     \n",
            "2      89.03      5999410     \n",
            "3      91.55      5999410     \n",
            "4      93.96      5999410     \n",
            "5      94.66      5999410     \n",
            "6      95.67      5999410     \n",
            "7      95.67      5999410     \n",
            "8      96.51      5999410     \n",
            "9      96.01      5999410     \n",
            "10     96.27      5999410     \n",
            "11     96.72      5999410     \n",
            "12     97.22      5999410     \n",
            "13     97.26      5999410     \n",
            "14     96.81      5999410     \n",
            "15     97.14      5999410     \n",
            "16     97.68      5999410     \n",
            "17     97.31      5999410     \n",
            "18     96.98      5999410     \n",
            "19     97.12      5999410     \n",
            "20     97.33      5999410     \n",
            "21     97.63      5999410     \n",
            "22     97.79      5999410     \n",
            "23     97.35      5999410     \n",
            "24     97.97      5999410     \n",
            "25     97.63      5999410     \n",
            "26     98.05      5999410     \n",
            "27     97.71      5999410     \n",
            "28     97.82      5999410     \n",
            "29     97.64      5999410     \n",
            "Training Complete. Best Accuracy: 98.05%\n"
          ]
        }
      ]
    },
    {
      "cell_type": "code",
      "source": [
        "#plots\n",
        "\n",
        "def compare_all_methods(simulators):\n",
        "    plt.figure(figsize=(16, 6))\n",
        "\n",
        "    colors = ['#1f77b4', '#ff7f0e', '#2ca02c']\n",
        "    markers = ['o', 's', '^']\n",
        "\n",
        "    # Accuracy\n",
        "    plt.subplot(1, 2, 1)\n",
        "    for idx, (label, sim) in enumerate(simulators.items()):\n",
        "        plt.plot(sim.accuracy_history,\n",
        "                 label=f\"{label} (Best: {max(sim.accuracy_history):.2f}%)\",\n",
        "                 marker=markers[idx % len(markers)],\n",
        "                 markevery=5,\n",
        "                 markersize=6,\n",
        "                 linewidth=2,\n",
        "                 color=colors[idx % len(colors)])\n",
        "    plt.title(\"Test Accuracy Across Rounds\", fontsize=16, weight='bold')\n",
        "    plt.xlabel(\"Rounds\", fontsize=14)\n",
        "    plt.ylabel(\"Accuracy (%)\", fontsize=14)\n",
        "    plt.legend(loc='lower right', fontsize=10)\n",
        "    plt.xticks(fontsize=12)\n",
        "    plt.yticks(fontsize=12)\n",
        "    plt.grid(True, linestyle='--', alpha=0.6)\n",
        "\n",
        "    # Communication Cost\n",
        "    plt.subplot(1, 2, 2)\n",
        "    for idx, (label, sim) in enumerate(simulators.items()):\n",
        "        plt.plot(sim.communication_cost,\n",
        "                 label=label,\n",
        "                 marker=markers[idx % len(markers)],\n",
        "                 markevery=5,\n",
        "                 markersize=6,\n",
        "                 linewidth=2,\n",
        "                 color=colors[idx % len(colors)])\n",
        "    plt.title(\"Communication Cost Per Round\", fontsize=16, weight='bold')\n",
        "    plt.xlabel(\"Rounds\", fontsize=14)\n",
        "    plt.ylabel(\"Communication Cost\", fontsize=14)\n",
        "    plt.legend(loc='upper right', fontsize=10)\n",
        "    plt.xticks(fontsize=12)\n",
        "    plt.yticks(fontsize=12)\n",
        "    plt.grid(True, linestyle='--', alpha=0.6)\n",
        "\n",
        "    plt.tight_layout(pad=2)\n",
        "    plt.show()\n"
      ],
      "metadata": {
        "id": "ZnOB6ft53So5"
      },
      "execution_count": null,
      "outputs": []
    },
    {
      "cell_type": "code",
      "source": [
        "if __name__ == \"__main__\":\n",
        "    compare_all_methods({\n",
        "        \"FedAvg + Clustering\": fedavg_sim,\n",
        "        \"FedProx + Async Communication \": fedprox_sim,\n",
        "        \"RL-FL\": simulator\n",
        "    })"
      ],
      "metadata": {
        "colab": {
          "base_uri": "https://localhost:8080/",
          "height": 601
        },
        "id": "m74JRjjR3VYM",
        "outputId": "c7eeab01-888b-4372-9898-9486c3000e0b"
      },
      "execution_count": null,
      "outputs": [
        {
          "output_type": "display_data",
          "data": {
            "text/plain": [
              "<Figure size 1600x600 with 2 Axes>"
            ],
            "image/png": "[encoded data removed]"
          },
          "metadata": {}
        }
      ]
    }
  ]
}